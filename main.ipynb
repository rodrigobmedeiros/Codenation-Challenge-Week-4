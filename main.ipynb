{
 "cells": [
  {
   "cell_type": "markdown",
   "metadata": {},
   "source": [
    "# Challenge 4\n",
    "\n",
    "\n",
    "In this challenge, we’re going to practice a little bit about hypothesis testing. We will use the _data set_ [2016 Olympics in Rio de Janeiro](https://www.kaggle.com/rio2016/olympic-games/), which contains data on athletes from the 2016 Olympics in Rio de Janeiro.\n",
    "\n",
    "This _data set_ has general information about 11538 athletes such as name, nationality, height, weight and sport. We will be especially interested in the numerical variables height (height) and weight (weight). The analyzes made here are part of an Exploratory Data Analysis (EDA)."
   ]
  },
  {
   "cell_type": "markdown",
   "metadata": {},
   "source": [
    "## _Setup_ "
   ]
  },
  {
   "cell_type": "code",
   "execution_count": 48,
   "metadata": {},
   "outputs": [],
   "source": [
    "import pandas as pd\n",
    "import matplotlib.pyplot as plt\n",
    "import numpy as np\n",
    "import scipy.stats as sct\n",
    "import seaborn as sns\n",
    "import statsmodels.api as sm"
   ]
  },
  {
   "cell_type": "code",
   "execution_count": 49,
   "metadata": {},
   "outputs": [],
   "source": [
    "athletes = pd.read_csv(\"athletes.csv\")"
   ]
  },
  {
   "cell_type": "code",
   "execution_count": 50,
   "metadata": {},
   "outputs": [],
   "source": [
    "def get_sample(df, col_name, n=100, seed=42):\n",
    "    \"\"\"Get a sample from a column of a dataframe.\n",
    "    \n",
    "    It drops any numpy.nan entries before sampling. The sampling\n",
    "    is performed without replacement.\n",
    "    \n",
    "    Example of numpydoc for those who haven't seen yet.\n",
    "    \n",
    "    Parameters\n",
    "    ----------\n",
    "    df : pandas.DataFrame\n",
    "        Source dataframe.\n",
    "    col_name : str\n",
    "        Name of the column to be sampled.\n",
    "    n : int\n",
    "        Sample size. Default is 100.\n",
    "    seed : int\n",
    "        Random seed. Default is 42.\n",
    "    \n",
    "    Returns\n",
    "    -------\n",
    "    pandas.Series\n",
    "        Sample of size n from dataframe's column.\n",
    "    \"\"\"\n",
    "    np.random.seed(seed)\n",
    "    \n",
    "    random_idx = np.random.choice(df[col_name].dropna().index, size=n, replace=False)\n",
    "    \n",
    "    return df.loc[random_idx, col_name]"
   ]
  },
  {
   "cell_type": "markdown",
   "metadata": {},
   "source": [
    "# Refactoring code with OOP\n",
    "\n",
    "\n",
    "After completing the challenge, I use the good practice of refactoring the code with a view to reusing, improving performance and improving understanding."
   ]
  },
  {
   "cell_type": "code",
   "execution_count": 51,
   "metadata": {},
   "outputs": [],
   "source": [
    "import scipy.stats as sct\n",
    "\n",
    "class HypothesisTests(object):\n",
    "    \"\"\"\n",
    "    Class used to test hypotheses by means of p-value analysis.\n",
    "    \"\"\"\n",
    "    \n",
    "    def __init__(self, alpha=0.1):\n",
    "        \"\"\"\n",
    "        Init Method used to initialize the instance\n",
    "        \n",
    "        Args:\n",
    "            self: Instance os class Hypothesis\n",
    "            alpha: Value to evaluate if the hypothesis is true or not\n",
    "        \n",
    "        Attributes:\n",
    "            alpha: value to evaluate if the hypothesis is true or not\n",
    "            p_value: value calculated by statistical tests and compared with alpha\n",
    "            stats: stats returned by statistical tests\n",
    "            is_true: boolean used to define if the hypothesis is true or not\n",
    "        \"\"\"\n",
    "        \n",
    "        self.alpha = alpha\n",
    "        self.p_value = 0\n",
    "        self.stats = 0\n",
    "        self.is_true = False\n",
    "    \n",
    "    \n",
    "    @property\n",
    "    def alpha(self):\n",
    "        \n",
    "        return self.__alpha\n",
    "    \n",
    "    \n",
    "    @alpha.setter\n",
    "    def alpha(self, alpha):\n",
    "        \n",
    "        self.__alpha = alpha\n",
    "    \n",
    "    \n",
    "    def test_shapiro(self, arr):\n",
    "        \"\"\"\n",
    "        Test Hypothesis that an iterable follow a normal distribution using shapiro method and update stats and p_value.\n",
    "        Update is_true: True if follow a normal distribution and False if not.\n",
    "        \n",
    "        args:\n",
    "            arr: iterable of floats or integers\n",
    "            \n",
    "        return:\n",
    "            None\n",
    "        \"\"\"\n",
    "        \n",
    "        self.stats, self.p_value = sct.shapiro(arr)\n",
    "        self.is_true = not (self.p_value < self.alpha)\n",
    "        \n",
    "        \n",
    "    def test_jarquebera(self, arr):\n",
    "        \"\"\"\n",
    "        Test Hypothesis that an iterable follow a normal distribution using jarque-bera method and update stats and p_value.\n",
    "        Update is_true: True if follow a normal distribution and False if not.\n",
    "        \n",
    "        args:\n",
    "            arr: iterable of floats or integers\n",
    "            \n",
    "        return:\n",
    "            None\n",
    "        \"\"\"\n",
    "        \n",
    "        self.stats, self.p_value = sct.jarque_bera(arr)\n",
    "        self.is_true = not (self.p_value < self.alpha)\n",
    "        \n",
    "\n",
    "    def test_normaltest(self, arr):\n",
    "        \"\"\"\n",
    "        Test Hypothesis that an iterable follow a normal distribution using normal test method and update stats and p_value.\n",
    "        Update is_true: True if follow a normal distribution and False if not.\n",
    "        args:\n",
    "            arr: iterable of floats or integers\n",
    "            \n",
    "        return:\n",
    "            None\n",
    "        \"\"\"\n",
    "        \n",
    "        self.stats, self.p_value = sct.normaltest(arr)\n",
    "        self.is_true = not (self.p_value < self.alpha)\n",
    "        \n",
    "    \n",
    "    def test_ttest_ind(self, arr_1, arr_2, equal_var=True):\n",
    "        \"\"\"\n",
    "        Test Hypothesis of the means of two iterables ate statistical the same.\n",
    "        Update stats and p_value with model info\n",
    "        Update is_true: True if means are the same and False if not.\n",
    "        \n",
    "        args:\n",
    "            arr: iterable of floats or integers\n",
    "            \n",
    "        return:\n",
    "            None\n",
    "        \"\"\"\n",
    "        \n",
    "        self.stats, self.p_value = sct.ttest_ind(arr_1, arr_2, equal_var=equal_var)\n",
    "        self.is_true = not (self.p_value < self.alpha)       "
   ]
  },
  {
   "cell_type": "markdown",
   "metadata": {},
   "source": [
    "## Analysis"
   ]
  },
  {
   "cell_type": "code",
   "execution_count": 52,
   "metadata": {},
   "outputs": [],
   "source": [
    "# Question 01\n",
    "\n",
    "shapiro = HypothesisTests(0.05)\n",
    "shapiro.test_shapiro(get_sample(athletes, 'height', n=3000))\n",
    "q1_result = shapiro.is_true\n",
    "\n",
    "# Question 02\n",
    "\n",
    "jarque_bera = HypothesisTests(0.05)\n",
    "jarque_bera.test_jarquebera(get_sample(athletes, 'height', n=3000))\n",
    "q2_result = jarque_bera.is_true\n",
    "\n",
    "# Question 03\n",
    "normaltest = HypothesisTests(0.05)\n",
    "normaltest.test_normaltest(get_sample(athletes, 'weight', n=3000))\n",
    "q3_result = normaltest.is_true\n",
    "\n",
    "# Question 04\n",
    "normaltest_log = HypothesisTests(0.05)\n",
    "normaltest_log.test_normaltest(np.log(get_sample(athletes, 'weight', n=3000)))\n",
    "q4_result = normaltest_log.is_true\n",
    "\n",
    "\n",
    "bra = athletes[athletes['nationality'] == 'BRA']\n",
    "usa = athletes[athletes['nationality'] == 'USA']\n",
    "can = athletes[athletes['nationality'] == 'CAN']\n",
    "\n",
    "column = 'height'\n",
    "\n",
    "# Question 05\n",
    "ttest_ind_usa_bra = HypothesisTests(0.05)\n",
    "ttest_ind_usa_bra.test_ttest_ind(usa[column].dropna(), bra[column].dropna(), False)\n",
    "q5_result = ttest_ind_usa_bra.is_true\n",
    "\n",
    "# Question 06\n",
    "ttest_ind_can_bra = HypothesisTests(0.05)\n",
    "ttest_ind_can_bra.test_ttest_ind(can[column].dropna(), bra[column].dropna(), False)\n",
    "q6_result = ttest_ind_can_bra.is_true\n",
    "\n",
    "# Question 07\n",
    "ttest_ind_can_usa = HypothesisTests(0.05)\n",
    "ttest_ind_can_usa.test_ttest_ind(can[column].dropna(), usa[column].dropna(), False)\n",
    "q7_result = round(ttest_ind_can_usa.p_value, 8)"
   ]
  },
  {
   "cell_type": "markdown",
   "metadata": {},
   "source": [
    "## Question 1\n",
    "\n",
    "Considering a sample of size 3000 from the `height` column obtained with the` get_sample () `function, run the Shapiro-Wilk normality test with the` scipy.stats.shapiro () `function. Can we say that heights are normally distributed based on this test (at the 5% significance level)? Respond with a boolean (`True` or` False`)."
   ]
  },
  {
   "cell_type": "code",
   "execution_count": 53,
   "metadata": {},
   "outputs": [],
   "source": [
    "def q1():\n",
    "    \n",
    "    return q1_result"
   ]
  },
  {
   "cell_type": "markdown",
   "metadata": {},
   "source": [
    "## Question 2\n",
    "\n",
    "Repeat the same procedure above, but now using the Jarque-Bera normality test through the `scipy.stats.jarque_bera ()` function. Can we now say that heights are normally distributed (at the 5% significance level)? Respond with a boolean (`True` or` False`)."
   ]
  },
  {
   "cell_type": "code",
   "execution_count": 54,
   "metadata": {},
   "outputs": [],
   "source": [
    "def q2():\n",
    "    return q2_result"
   ]
  },
  {
   "cell_type": "markdown",
   "metadata": {},
   "source": [
    "## Question 3\n",
    "\n",
    "Now considering a sample of size 3000 from the `weight` column obtained with the` get_sample () `function. Take the D'Agostino-Pearson normality test using the `scipy.stats.normaltest ()` function. Can we say that the weights come from a normal distribution at a 5% significance level? Respond with a boolean (`True` or` False`)."
   ]
  },
  {
   "cell_type": "code",
   "execution_count": 55,
   "metadata": {},
   "outputs": [],
   "source": [
    "def q3():\n",
    "    return q3_result"
   ]
  },
  {
   "cell_type": "code",
   "execution_count": 56,
   "metadata": {},
   "outputs": [],
   "source": [
    "def q4():\n",
    "    return q4_result"
   ]
  },
  {
   "cell_type": "markdown",
   "metadata": {},
   "source": [
    "## Question 5\n",
    "\n",
    "Get all Brazilian, North American and Canadian athletes in `DataFrame`s called` bra`, `usa` and` can`, respectively. Perform a hypothesis test to compare height averages (`height`) for independent samples and different variances with the` scipy.stats.ttest_ind () `function between` bra` and `usa`. Can we say that the averages are statistically equal? Respond with a boolean (`True` or` False`)."
   ]
  },
  {
   "cell_type": "code",
   "execution_count": 57,
   "metadata": {},
   "outputs": [],
   "source": [
    "def q5():\n",
    "    return q5_result"
   ]
  },
  {
   "cell_type": "markdown",
   "metadata": {},
   "source": [
    "## Question 6\n",
    "\n",
    "Repeat the procedure of question 5, but now between the heights of `bra` and` can`. Can we now affirm that the averages are statistically equal? Reset with a boolean (`True` or` False`)."
   ]
  },
  {
   "cell_type": "code",
   "execution_count": 58,
   "metadata": {},
   "outputs": [],
   "source": [
    "def q6():\n",
    "    return q6_result"
   ]
  },
  {
   "cell_type": "markdown",
   "metadata": {},
   "source": [
    "## Question 7\n",
    "\n",
    "Repeat the procedure of question 6, but now between the heights of `usa` and` can`. What is the value of the p-value returned? Respond as a single scalar rounded to eight decimal places."
   ]
  },
  {
   "cell_type": "code",
   "execution_count": 59,
   "metadata": {},
   "outputs": [],
   "source": [
    "def q7():\n",
    "    return q7_result"
   ]
  }
 ],
 "metadata": {
  "kernelspec": {
   "display_name": "Python 3",
   "language": "python",
   "name": "python3"
  },
  "language_info": {
   "codemirror_mode": {
    "name": "ipython",
    "version": 3
   },
   "file_extension": ".py",
   "mimetype": "text/x-python",
   "name": "python",
   "nbconvert_exporter": "python",
   "pygments_lexer": "ipython3",
   "version": "3.7.4"
  }
 },
 "nbformat": 4,
 "nbformat_minor": 2
}
